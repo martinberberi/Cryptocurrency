{
 "cells": [
  {
   "cell_type": "code",
   "execution_count": 2,
   "metadata": {},
   "outputs": [],
   "source": [
    "import pandas as pd\n",
    "import numpy as np\n",
    "\n",
    "import seaborn as sns\n",
    "import matplotlib.pyplot as plt\n",
    "%matplotlib inline\n",
    "\n",
    "import matplotlib\n",
    "matplotlib.rcParams['figure.figsize'] = (12,5)\n",
    "\n",
    "pd.options.display.float_format = '{:.4f}'.format"
   ]
  },
  {
   "cell_type": "code",
   "execution_count": 3,
   "metadata": {},
   "outputs": [
    {
     "data": {
      "text/html": [
       "<div>\n",
       "<style scoped>\n",
       "    .dataframe tbody tr th:only-of-type {\n",
       "        vertical-align: middle;\n",
       "    }\n",
       "\n",
       "    .dataframe tbody tr th {\n",
       "        vertical-align: top;\n",
       "    }\n",
       "\n",
       "    .dataframe thead th {\n",
       "        text-align: right;\n",
       "    }\n",
       "</style>\n",
       "<table border=\"1\" class=\"dataframe\">\n",
       "  <thead>\n",
       "    <tr style=\"text-align: right;\">\n",
       "      <th></th>\n",
       "      <th>SNo</th>\n",
       "      <th>Name</th>\n",
       "      <th>Symbol</th>\n",
       "      <th>Date</th>\n",
       "      <th>High</th>\n",
       "      <th>Low</th>\n",
       "      <th>Open</th>\n",
       "      <th>Close</th>\n",
       "      <th>Volume</th>\n",
       "      <th>Marketcap</th>\n",
       "    </tr>\n",
       "  </thead>\n",
       "  <tbody>\n",
       "    <tr>\n",
       "      <th>0</th>\n",
       "      <td>1</td>\n",
       "      <td>Bitcoin</td>\n",
       "      <td>BTC</td>\n",
       "      <td>2013-04-29 23:59:59</td>\n",
       "      <td>147.4880</td>\n",
       "      <td>134.0000</td>\n",
       "      <td>134.4440</td>\n",
       "      <td>144.5400</td>\n",
       "      <td>0.0000</td>\n",
       "      <td>1603768864.5000</td>\n",
       "    </tr>\n",
       "    <tr>\n",
       "      <th>1</th>\n",
       "      <td>2</td>\n",
       "      <td>Bitcoin</td>\n",
       "      <td>BTC</td>\n",
       "      <td>2013-04-30 23:59:59</td>\n",
       "      <td>146.9300</td>\n",
       "      <td>134.0500</td>\n",
       "      <td>144.0000</td>\n",
       "      <td>139.0000</td>\n",
       "      <td>0.0000</td>\n",
       "      <td>1542813125.0000</td>\n",
       "    </tr>\n",
       "    <tr>\n",
       "      <th>2</th>\n",
       "      <td>3</td>\n",
       "      <td>Bitcoin</td>\n",
       "      <td>BTC</td>\n",
       "      <td>2013-05-01 23:59:59</td>\n",
       "      <td>139.8900</td>\n",
       "      <td>107.7200</td>\n",
       "      <td>139.0000</td>\n",
       "      <td>116.9900</td>\n",
       "      <td>0.0000</td>\n",
       "      <td>1298954593.7500</td>\n",
       "    </tr>\n",
       "    <tr>\n",
       "      <th>3</th>\n",
       "      <td>4</td>\n",
       "      <td>Bitcoin</td>\n",
       "      <td>BTC</td>\n",
       "      <td>2013-05-02 23:59:59</td>\n",
       "      <td>125.6000</td>\n",
       "      <td>92.2819</td>\n",
       "      <td>116.3800</td>\n",
       "      <td>105.2100</td>\n",
       "      <td>0.0000</td>\n",
       "      <td>1168517495.2500</td>\n",
       "    </tr>\n",
       "    <tr>\n",
       "      <th>4</th>\n",
       "      <td>5</td>\n",
       "      <td>Bitcoin</td>\n",
       "      <td>BTC</td>\n",
       "      <td>2013-05-03 23:59:59</td>\n",
       "      <td>108.1280</td>\n",
       "      <td>79.1000</td>\n",
       "      <td>106.2500</td>\n",
       "      <td>97.7500</td>\n",
       "      <td>0.0000</td>\n",
       "      <td>1085995168.7500</td>\n",
       "    </tr>\n",
       "  </tbody>\n",
       "</table>\n",
       "</div>"
      ],
      "text/plain": [
       "   SNo     Name Symbol                 Date     High      Low     Open  \\\n",
       "0    1  Bitcoin    BTC  2013-04-29 23:59:59 147.4880 134.0000 134.4440   \n",
       "1    2  Bitcoin    BTC  2013-04-30 23:59:59 146.9300 134.0500 144.0000   \n",
       "2    3  Bitcoin    BTC  2013-05-01 23:59:59 139.8900 107.7200 139.0000   \n",
       "3    4  Bitcoin    BTC  2013-05-02 23:59:59 125.6000  92.2819 116.3800   \n",
       "4    5  Bitcoin    BTC  2013-05-03 23:59:59 108.1280  79.1000 106.2500   \n",
       "\n",
       "     Close  Volume       Marketcap  \n",
       "0 144.5400  0.0000 1603768864.5000  \n",
       "1 139.0000  0.0000 1542813125.0000  \n",
       "2 116.9900  0.0000 1298954593.7500  \n",
       "3 105.2100  0.0000 1168517495.2500  \n",
       "4  97.7500  0.0000 1085995168.7500  "
      ]
     },
     "execution_count": 3,
     "metadata": {},
     "output_type": "execute_result"
    }
   ],
   "source": [
    "bitcoin = pd.read_csv('coin_Bitcoin.csv')\n",
    "bitcoin.head()"
   ]
  },
  {
   "cell_type": "markdown",
   "metadata": {},
   "source": [
    "#### Checking some general information about my dataset"
   ]
  },
  {
   "cell_type": "code",
   "execution_count": 4,
   "metadata": {},
   "outputs": [
    {
     "name": "stdout",
     "output_type": "stream",
     "text": [
      "<class 'pandas.core.frame.DataFrame'>\n",
      "RangeIndex: 2862 entries, 0 to 2861\n",
      "Data columns (total 10 columns):\n",
      "SNo          2862 non-null int64\n",
      "Name         2862 non-null object\n",
      "Symbol       2862 non-null object\n",
      "Date         2862 non-null object\n",
      "High         2862 non-null float64\n",
      "Low          2862 non-null float64\n",
      "Open         2862 non-null float64\n",
      "Close        2862 non-null float64\n",
      "Volume       2862 non-null float64\n",
      "Marketcap    2862 non-null float64\n",
      "dtypes: float64(6), int64(1), object(3)\n",
      "memory usage: 223.7+ KB\n"
     ]
    }
   ],
   "source": [
    "bitcoin.info()"
   ]
  },
  {
   "cell_type": "code",
   "execution_count": 5,
   "metadata": {},
   "outputs": [
    {
     "data": {
      "text/plain": [
       "(2862, 10)"
      ]
     },
     "execution_count": 5,
     "metadata": {},
     "output_type": "execute_result"
    }
   ],
   "source": [
    "bitcoin.shape"
   ]
  },
  {
   "cell_type": "code",
   "execution_count": 6,
   "metadata": {},
   "outputs": [
    {
     "data": {
      "text/html": [
       "<div>\n",
       "<style scoped>\n",
       "    .dataframe tbody tr th:only-of-type {\n",
       "        vertical-align: middle;\n",
       "    }\n",
       "\n",
       "    .dataframe tbody tr th {\n",
       "        vertical-align: top;\n",
       "    }\n",
       "\n",
       "    .dataframe thead th {\n",
       "        text-align: right;\n",
       "    }\n",
       "</style>\n",
       "<table border=\"1\" class=\"dataframe\">\n",
       "  <thead>\n",
       "    <tr style=\"text-align: right;\">\n",
       "      <th></th>\n",
       "      <th>SNo</th>\n",
       "      <th>High</th>\n",
       "      <th>Low</th>\n",
       "      <th>Open</th>\n",
       "      <th>Close</th>\n",
       "      <th>Volume</th>\n",
       "      <th>Marketcap</th>\n",
       "    </tr>\n",
       "  </thead>\n",
       "  <tbody>\n",
       "    <tr>\n",
       "      <th>count</th>\n",
       "      <td>2862.0000</td>\n",
       "      <td>2862.0000</td>\n",
       "      <td>2862.0000</td>\n",
       "      <td>2862.0000</td>\n",
       "      <td>2862.0000</td>\n",
       "      <td>2862.0000</td>\n",
       "      <td>2862.0000</td>\n",
       "    </tr>\n",
       "    <tr>\n",
       "      <th>mean</th>\n",
       "      <td>1431.5000</td>\n",
       "      <td>4974.0402</td>\n",
       "      <td>4695.1030</td>\n",
       "      <td>4836.3068</td>\n",
       "      <td>4852.0925</td>\n",
       "      <td>8978474906.0093</td>\n",
       "      <td>85916224373.1124</td>\n",
       "    </tr>\n",
       "    <tr>\n",
       "      <th>std</th>\n",
       "      <td>826.3326</td>\n",
       "      <td>7188.8367</td>\n",
       "      <td>6667.1976</td>\n",
       "      <td>6933.5734</td>\n",
       "      <td>6975.1059</td>\n",
       "      <td>16581351322.1482</td>\n",
       "      <td>128741448955.7546</td>\n",
       "    </tr>\n",
       "    <tr>\n",
       "      <th>min</th>\n",
       "      <td>1.0000</td>\n",
       "      <td>74.5611</td>\n",
       "      <td>65.5260</td>\n",
       "      <td>68.5050</td>\n",
       "      <td>68.4310</td>\n",
       "      <td>0.0000</td>\n",
       "      <td>778411178.8750</td>\n",
       "    </tr>\n",
       "    <tr>\n",
       "      <th>25%</th>\n",
       "      <td>716.2500</td>\n",
       "      <td>426.0478</td>\n",
       "      <td>415.6758</td>\n",
       "      <td>421.2045</td>\n",
       "      <td>420.9892</td>\n",
       "      <td>27862500.0000</td>\n",
       "      <td>5988997103.4300</td>\n",
       "    </tr>\n",
       "    <tr>\n",
       "      <th>50%</th>\n",
       "      <td>1431.5000</td>\n",
       "      <td>1197.3350</td>\n",
       "      <td>1164.1750</td>\n",
       "      <td>1180.1000</td>\n",
       "      <td>1182.8100</td>\n",
       "      <td>330195008.0000</td>\n",
       "      <td>19242382456.5000</td>\n",
       "    </tr>\n",
       "    <tr>\n",
       "      <th>75%</th>\n",
       "      <td>2146.7500</td>\n",
       "      <td>8138.0466</td>\n",
       "      <td>7703.3575</td>\n",
       "      <td>7924.6123</td>\n",
       "      <td>7926.6969</td>\n",
       "      <td>12967425768.0014</td>\n",
       "      <td>138765817330.4990</td>\n",
       "    </tr>\n",
       "    <tr>\n",
       "      <th>max</th>\n",
       "      <td>2862.0000</td>\n",
       "      <td>58330.5721</td>\n",
       "      <td>55672.6095</td>\n",
       "      <td>57532.7389</td>\n",
       "      <td>57539.9437</td>\n",
       "      <td>350967941479.0600</td>\n",
       "      <td>1072263294724.9399</td>\n",
       "    </tr>\n",
       "  </tbody>\n",
       "</table>\n",
       "</div>"
      ],
      "text/plain": [
       "            SNo       High        Low       Open      Close            Volume  \\\n",
       "count 2862.0000  2862.0000  2862.0000  2862.0000  2862.0000         2862.0000   \n",
       "mean  1431.5000  4974.0402  4695.1030  4836.3068  4852.0925   8978474906.0093   \n",
       "std    826.3326  7188.8367  6667.1976  6933.5734  6975.1059  16581351322.1482   \n",
       "min      1.0000    74.5611    65.5260    68.5050    68.4310            0.0000   \n",
       "25%    716.2500   426.0478   415.6758   421.2045   420.9892     27862500.0000   \n",
       "50%   1431.5000  1197.3350  1164.1750  1180.1000  1182.8100    330195008.0000   \n",
       "75%   2146.7500  8138.0466  7703.3575  7924.6123  7926.6969  12967425768.0014   \n",
       "max   2862.0000 58330.5721 55672.6095 57532.7389 57539.9437 350967941479.0600   \n",
       "\n",
       "               Marketcap  \n",
       "count          2862.0000  \n",
       "mean    85916224373.1124  \n",
       "std    128741448955.7546  \n",
       "min       778411178.8750  \n",
       "25%      5988997103.4300  \n",
       "50%     19242382456.5000  \n",
       "75%    138765817330.4990  \n",
       "max   1072263294724.9399  "
      ]
     },
     "execution_count": 6,
     "metadata": {},
     "output_type": "execute_result"
    }
   ],
   "source": [
    "bitcoin.describe()"
   ]
  },
  {
   "cell_type": "code",
   "execution_count": 7,
   "metadata": {},
   "outputs": [
    {
     "data": {
      "text/plain": [
       "0"
      ]
     },
     "execution_count": 7,
     "metadata": {},
     "output_type": "execute_result"
    }
   ],
   "source": [
    "bitcoin.isnull().sum().sum()"
   ]
  },
  {
   "cell_type": "markdown",
   "metadata": {},
   "source": [
    "#### Starting to clean the dataset from the columns we don't need\n",
    "* This dataset is only for bitcoin coin so the serial number, name and symbol are not required as columns"
   ]
  },
  {
   "cell_type": "code",
   "execution_count": 8,
   "metadata": {},
   "outputs": [],
   "source": [
    "bitcoin.drop(['SNo', 'Name', 'Symbol'],axis = 1, inplace = True)"
   ]
  },
  {
   "cell_type": "code",
   "execution_count": 9,
   "metadata": {},
   "outputs": [
    {
     "data": {
      "text/html": [
       "<div>\n",
       "<style scoped>\n",
       "    .dataframe tbody tr th:only-of-type {\n",
       "        vertical-align: middle;\n",
       "    }\n",
       "\n",
       "    .dataframe tbody tr th {\n",
       "        vertical-align: top;\n",
       "    }\n",
       "\n",
       "    .dataframe thead th {\n",
       "        text-align: right;\n",
       "    }\n",
       "</style>\n",
       "<table border=\"1\" class=\"dataframe\">\n",
       "  <thead>\n",
       "    <tr style=\"text-align: right;\">\n",
       "      <th></th>\n",
       "      <th>Date</th>\n",
       "      <th>High</th>\n",
       "      <th>Low</th>\n",
       "      <th>Open</th>\n",
       "      <th>Close</th>\n",
       "      <th>Volume</th>\n",
       "      <th>Marketcap</th>\n",
       "    </tr>\n",
       "  </thead>\n",
       "  <tbody>\n",
       "    <tr>\n",
       "      <th>0</th>\n",
       "      <td>2013-04-29 23:59:59</td>\n",
       "      <td>147.4880</td>\n",
       "      <td>134.0000</td>\n",
       "      <td>134.4440</td>\n",
       "      <td>144.5400</td>\n",
       "      <td>0.0000</td>\n",
       "      <td>1603768864.5000</td>\n",
       "    </tr>\n",
       "    <tr>\n",
       "      <th>1</th>\n",
       "      <td>2013-04-30 23:59:59</td>\n",
       "      <td>146.9300</td>\n",
       "      <td>134.0500</td>\n",
       "      <td>144.0000</td>\n",
       "      <td>139.0000</td>\n",
       "      <td>0.0000</td>\n",
       "      <td>1542813125.0000</td>\n",
       "    </tr>\n",
       "    <tr>\n",
       "      <th>2</th>\n",
       "      <td>2013-05-01 23:59:59</td>\n",
       "      <td>139.8900</td>\n",
       "      <td>107.7200</td>\n",
       "      <td>139.0000</td>\n",
       "      <td>116.9900</td>\n",
       "      <td>0.0000</td>\n",
       "      <td>1298954593.7500</td>\n",
       "    </tr>\n",
       "    <tr>\n",
       "      <th>3</th>\n",
       "      <td>2013-05-02 23:59:59</td>\n",
       "      <td>125.6000</td>\n",
       "      <td>92.2819</td>\n",
       "      <td>116.3800</td>\n",
       "      <td>105.2100</td>\n",
       "      <td>0.0000</td>\n",
       "      <td>1168517495.2500</td>\n",
       "    </tr>\n",
       "    <tr>\n",
       "      <th>4</th>\n",
       "      <td>2013-05-03 23:59:59</td>\n",
       "      <td>108.1280</td>\n",
       "      <td>79.1000</td>\n",
       "      <td>106.2500</td>\n",
       "      <td>97.7500</td>\n",
       "      <td>0.0000</td>\n",
       "      <td>1085995168.7500</td>\n",
       "    </tr>\n",
       "  </tbody>\n",
       "</table>\n",
       "</div>"
      ],
      "text/plain": [
       "                  Date     High      Low     Open    Close  Volume  \\\n",
       "0  2013-04-29 23:59:59 147.4880 134.0000 134.4440 144.5400  0.0000   \n",
       "1  2013-04-30 23:59:59 146.9300 134.0500 144.0000 139.0000  0.0000   \n",
       "2  2013-05-01 23:59:59 139.8900 107.7200 139.0000 116.9900  0.0000   \n",
       "3  2013-05-02 23:59:59 125.6000  92.2819 116.3800 105.2100  0.0000   \n",
       "4  2013-05-03 23:59:59 108.1280  79.1000 106.2500  97.7500  0.0000   \n",
       "\n",
       "        Marketcap  \n",
       "0 1603768864.5000  \n",
       "1 1542813125.0000  \n",
       "2 1298954593.7500  \n",
       "3 1168517495.2500  \n",
       "4 1085995168.7500  "
      ]
     },
     "execution_count": 9,
     "metadata": {},
     "output_type": "execute_result"
    }
   ],
   "source": [
    "bitcoin.head()"
   ]
  },
  {
   "cell_type": "markdown",
   "metadata": {},
   "source": [
    "* Change the Date from object to datetime object format"
   ]
  },
  {
   "cell_type": "code",
   "execution_count": 10,
   "metadata": {},
   "outputs": [],
   "source": [
    "bitcoin['Date'] = pd.to_datetime(bitcoin['Date'])"
   ]
  },
  {
   "cell_type": "code",
   "execution_count": 11,
   "metadata": {},
   "outputs": [
    {
     "name": "stdout",
     "output_type": "stream",
     "text": [
      "<class 'pandas.core.frame.DataFrame'>\n",
      "RangeIndex: 2862 entries, 0 to 2861\n",
      "Data columns (total 7 columns):\n",
      "Date         2862 non-null datetime64[ns]\n",
      "High         2862 non-null float64\n",
      "Low          2862 non-null float64\n",
      "Open         2862 non-null float64\n",
      "Close        2862 non-null float64\n",
      "Volume       2862 non-null float64\n",
      "Marketcap    2862 non-null float64\n",
      "dtypes: datetime64[ns](1), float64(6)\n",
      "memory usage: 156.6 KB\n"
     ]
    }
   ],
   "source": [
    "bitcoin.info()"
   ]
  },
  {
   "cell_type": "code",
   "execution_count": 12,
   "metadata": {},
   "outputs": [
    {
     "data": {
      "text/html": [
       "<div>\n",
       "<style scoped>\n",
       "    .dataframe tbody tr th:only-of-type {\n",
       "        vertical-align: middle;\n",
       "    }\n",
       "\n",
       "    .dataframe tbody tr th {\n",
       "        vertical-align: top;\n",
       "    }\n",
       "\n",
       "    .dataframe thead th {\n",
       "        text-align: right;\n",
       "    }\n",
       "</style>\n",
       "<table border=\"1\" class=\"dataframe\">\n",
       "  <thead>\n",
       "    <tr style=\"text-align: right;\">\n",
       "      <th></th>\n",
       "      <th>Date</th>\n",
       "      <th>High</th>\n",
       "      <th>Low</th>\n",
       "      <th>Open</th>\n",
       "      <th>Close</th>\n",
       "      <th>Volume</th>\n",
       "      <th>Marketcap</th>\n",
       "    </tr>\n",
       "  </thead>\n",
       "  <tbody>\n",
       "    <tr>\n",
       "      <th>0</th>\n",
       "      <td>2013-04-29 23:59:59</td>\n",
       "      <td>147.4880</td>\n",
       "      <td>134.0000</td>\n",
       "      <td>134.4440</td>\n",
       "      <td>144.5400</td>\n",
       "      <td>0.0000</td>\n",
       "      <td>1603768864.5000</td>\n",
       "    </tr>\n",
       "    <tr>\n",
       "      <th>1</th>\n",
       "      <td>2013-04-30 23:59:59</td>\n",
       "      <td>146.9300</td>\n",
       "      <td>134.0500</td>\n",
       "      <td>144.0000</td>\n",
       "      <td>139.0000</td>\n",
       "      <td>0.0000</td>\n",
       "      <td>1542813125.0000</td>\n",
       "    </tr>\n",
       "    <tr>\n",
       "      <th>2</th>\n",
       "      <td>2013-05-01 23:59:59</td>\n",
       "      <td>139.8900</td>\n",
       "      <td>107.7200</td>\n",
       "      <td>139.0000</td>\n",
       "      <td>116.9900</td>\n",
       "      <td>0.0000</td>\n",
       "      <td>1298954593.7500</td>\n",
       "    </tr>\n",
       "    <tr>\n",
       "      <th>3</th>\n",
       "      <td>2013-05-02 23:59:59</td>\n",
       "      <td>125.6000</td>\n",
       "      <td>92.2819</td>\n",
       "      <td>116.3800</td>\n",
       "      <td>105.2100</td>\n",
       "      <td>0.0000</td>\n",
       "      <td>1168517495.2500</td>\n",
       "    </tr>\n",
       "    <tr>\n",
       "      <th>4</th>\n",
       "      <td>2013-05-03 23:59:59</td>\n",
       "      <td>108.1280</td>\n",
       "      <td>79.1000</td>\n",
       "      <td>106.2500</td>\n",
       "      <td>97.7500</td>\n",
       "      <td>0.0000</td>\n",
       "      <td>1085995168.7500</td>\n",
       "    </tr>\n",
       "  </tbody>\n",
       "</table>\n",
       "</div>"
      ],
      "text/plain": [
       "                 Date     High      Low     Open    Close  Volume  \\\n",
       "0 2013-04-29 23:59:59 147.4880 134.0000 134.4440 144.5400  0.0000   \n",
       "1 2013-04-30 23:59:59 146.9300 134.0500 144.0000 139.0000  0.0000   \n",
       "2 2013-05-01 23:59:59 139.8900 107.7200 139.0000 116.9900  0.0000   \n",
       "3 2013-05-02 23:59:59 125.6000  92.2819 116.3800 105.2100  0.0000   \n",
       "4 2013-05-03 23:59:59 108.1280  79.1000 106.2500  97.7500  0.0000   \n",
       "\n",
       "        Marketcap  \n",
       "0 1603768864.5000  \n",
       "1 1542813125.0000  \n",
       "2 1298954593.7500  \n",
       "3 1168517495.2500  \n",
       "4 1085995168.7500  "
      ]
     },
     "execution_count": 12,
     "metadata": {},
     "output_type": "execute_result"
    }
   ],
   "source": [
    "bitcoin.head()"
   ]
  },
  {
   "cell_type": "markdown",
   "metadata": {},
   "source": [
    "* The cryptocurrenies are very sensitive and they can change every second but in this dataset is reported once a day so i will get the year, month, day only from datetime column"
   ]
  },
  {
   "cell_type": "code",
   "execution_count": 13,
   "metadata": {},
   "outputs": [],
   "source": [
    "bitcoin['Year'] = bitcoin['Date'].apply(lambda x: x.year)\n",
    "bitcoin['Month'] = bitcoin['Date'].apply(lambda x: x.month)\n",
    "bitcoin['Day'] = bitcoin['Date'].apply(lambda x: x.day)"
   ]
  },
  {
   "cell_type": "code",
   "execution_count": 14,
   "metadata": {},
   "outputs": [
    {
     "data": {
      "text/html": [
       "<div>\n",
       "<style scoped>\n",
       "    .dataframe tbody tr th:only-of-type {\n",
       "        vertical-align: middle;\n",
       "    }\n",
       "\n",
       "    .dataframe tbody tr th {\n",
       "        vertical-align: top;\n",
       "    }\n",
       "\n",
       "    .dataframe thead th {\n",
       "        text-align: right;\n",
       "    }\n",
       "</style>\n",
       "<table border=\"1\" class=\"dataframe\">\n",
       "  <thead>\n",
       "    <tr style=\"text-align: right;\">\n",
       "      <th></th>\n",
       "      <th>High</th>\n",
       "      <th>Low</th>\n",
       "      <th>Open</th>\n",
       "      <th>Close</th>\n",
       "      <th>Volume</th>\n",
       "      <th>Marketcap</th>\n",
       "      <th>Year</th>\n",
       "      <th>Month</th>\n",
       "      <th>Day</th>\n",
       "    </tr>\n",
       "  </thead>\n",
       "  <tbody>\n",
       "    <tr>\n",
       "      <th>0</th>\n",
       "      <td>147.4880</td>\n",
       "      <td>134.0000</td>\n",
       "      <td>134.4440</td>\n",
       "      <td>144.5400</td>\n",
       "      <td>0.0000</td>\n",
       "      <td>1603768864.5000</td>\n",
       "      <td>2013</td>\n",
       "      <td>4</td>\n",
       "      <td>29</td>\n",
       "    </tr>\n",
       "    <tr>\n",
       "      <th>1</th>\n",
       "      <td>146.9300</td>\n",
       "      <td>134.0500</td>\n",
       "      <td>144.0000</td>\n",
       "      <td>139.0000</td>\n",
       "      <td>0.0000</td>\n",
       "      <td>1542813125.0000</td>\n",
       "      <td>2013</td>\n",
       "      <td>4</td>\n",
       "      <td>30</td>\n",
       "    </tr>\n",
       "    <tr>\n",
       "      <th>2</th>\n",
       "      <td>139.8900</td>\n",
       "      <td>107.7200</td>\n",
       "      <td>139.0000</td>\n",
       "      <td>116.9900</td>\n",
       "      <td>0.0000</td>\n",
       "      <td>1298954593.7500</td>\n",
       "      <td>2013</td>\n",
       "      <td>5</td>\n",
       "      <td>1</td>\n",
       "    </tr>\n",
       "    <tr>\n",
       "      <th>3</th>\n",
       "      <td>125.6000</td>\n",
       "      <td>92.2819</td>\n",
       "      <td>116.3800</td>\n",
       "      <td>105.2100</td>\n",
       "      <td>0.0000</td>\n",
       "      <td>1168517495.2500</td>\n",
       "      <td>2013</td>\n",
       "      <td>5</td>\n",
       "      <td>2</td>\n",
       "    </tr>\n",
       "    <tr>\n",
       "      <th>4</th>\n",
       "      <td>108.1280</td>\n",
       "      <td>79.1000</td>\n",
       "      <td>106.2500</td>\n",
       "      <td>97.7500</td>\n",
       "      <td>0.0000</td>\n",
       "      <td>1085995168.7500</td>\n",
       "      <td>2013</td>\n",
       "      <td>5</td>\n",
       "      <td>3</td>\n",
       "    </tr>\n",
       "  </tbody>\n",
       "</table>\n",
       "</div>"
      ],
      "text/plain": [
       "      High      Low     Open    Close  Volume       Marketcap  Year  Month  \\\n",
       "0 147.4880 134.0000 134.4440 144.5400  0.0000 1603768864.5000  2013      4   \n",
       "1 146.9300 134.0500 144.0000 139.0000  0.0000 1542813125.0000  2013      4   \n",
       "2 139.8900 107.7200 139.0000 116.9900  0.0000 1298954593.7500  2013      5   \n",
       "3 125.6000  92.2819 116.3800 105.2100  0.0000 1168517495.2500  2013      5   \n",
       "4 108.1280  79.1000 106.2500  97.7500  0.0000 1085995168.7500  2013      5   \n",
       "\n",
       "   Day  \n",
       "0   29  \n",
       "1   30  \n",
       "2    1  \n",
       "3    2  \n",
       "4    3  "
      ]
     },
     "execution_count": 14,
     "metadata": {},
     "output_type": "execute_result"
    }
   ],
   "source": [
    "bitcoin.drop('Date', axis = 1, inplace = True)\n",
    "bitcoin.head()"
   ]
  },
  {
   "cell_type": "markdown",
   "metadata": {},
   "source": [
    "* The dataset looks clean so far so next step is exploration"
   ]
  },
  {
   "cell_type": "markdown",
   "metadata": {},
   "source": [
    "#### Exploratory Analysis"
   ]
  },
  {
   "cell_type": "markdown",
   "metadata": {},
   "source": [
    "* I will check the dataset distribution"
   ]
  },
  {
   "cell_type": "code",
   "execution_count": 15,
   "metadata": {},
   "outputs": [
    {
     "data": {
      "image/png": "[encoded data removed]",
      "text/plain": [
       "<Figure size 864x360 with 1 Axes>"
      ]
     },
     "metadata": {
      "needs_background": "light"
     },
     "output_type": "display_data"
    }
   ],
   "source": [
    "bitcoin['Marketcap'].hist(bins = 20)\n",
    "plt.title('Marketcap distribution')\n",
    "plt.xlabel('MarketCap ($)')\n",
    "plt.ylabel('Frequency');"
   ]
  },
  {
   "cell_type": "markdown",
   "metadata": {},
   "source": [
    "The dataset looks unimodel skewed right"
   ]
  },
  {
   "cell_type": "markdown",
   "metadata": {},
   "source": [
    "* Coin during the years"
   ]
  },
  {
   "cell_type": "code",
   "execution_count": 16,
   "metadata": {},
   "outputs": [
    {
     "data": {
      "image/png": "[encoded data removed]",
      "text/plain": [
       "<Figure size 864x360 with 1 Axes>"
      ]
     },
     "metadata": {
      "needs_background": "light"
     },
     "output_type": "display_data"
    }
   ],
   "source": [
    "bitcoin.groupby('Year').sum()['Marketcap'].plot()\n",
    "plt.title('Bitcoin during the Years', fontsize = 12)\n",
    "plt.xlabel('Year')\n",
    "plt.ylabel('Marketcap ($)');"
   ]
  },
  {
   "cell_type": "markdown",
   "metadata": {},
   "source": [
    "The biggest raise Bitcoin had in 2020 but from the graph i can see that the coin becoming growth every year with a boom from 2016 to 2017"
   ]
  },
  {
   "cell_type": "code",
   "execution_count": 17,
   "metadata": {},
   "outputs": [
    {
     "data": {
      "image/png": "[encoded data removed]",
      "text/plain": [
       "<Figure size 864x360 with 1 Axes>"
      ]
     },
     "metadata": {
      "needs_background": "light"
     },
     "output_type": "display_data"
    }
   ],
   "source": [
    "bitcoin.groupby('Month').sum()['Marketcap'].plot()\n",
    "plt.title('Bitcoin during the Month', fontsize = 12)\n",
    "plt.xlabel('Month')\n",
    "plt.ylabel('Marketcap ($)');"
   ]
  },
  {
   "cell_type": "code",
   "execution_count": 18,
   "metadata": {},
   "outputs": [
    {
     "data": {
      "image/png": "[encoded data removed]",
      "text/plain": [
       "<Figure size 1296x648 with 9 Axes>"
      ]
     },
     "metadata": {
      "needs_background": "light"
     },
     "output_type": "display_data"
    }
   ],
   "source": [
    "g = sns.FacetGrid(data = bitcoin, col = 'Year', col_wrap=3, aspect = 2)\n",
    "g.map(plt.bar, 'Month', 'Marketcap')\n",
    "g.set(xticks = [1, 2, 3, 4, 5, 6, 7, 8, 9, 10, 11, 12], \n",
    "      xticklabels = ['Jan', 'Feb', 'Mar', 'Apr', 'May', 'Jun', 'Jul', 'Aug', 'Sep', 'Oct', 'Nov', 'Dec']);"
   ]
  },
  {
   "cell_type": "code",
   "execution_count": 19,
   "metadata": {},
   "outputs": [
    {
     "data": {
      "image/png": "[encoded data removed]",
      "text/plain": [
       "<Figure size 972x648 with 9 Axes>"
      ]
     },
     "metadata": {
      "needs_background": "light"
     },
     "output_type": "display_data"
    }
   ],
   "source": [
    "g = sns.FacetGrid(data = bitcoin, col = 'Year', col_wrap=3, aspect=3/2)\n",
    "g.map(plt.bar, 'Day', 'Marketcap')\n",
    "g.set(xticks = [1,2,3,4,5,6,7,8,9,10,11,12,13,14,15,16,17,18,19,20,21,22,23,24,25,26,27,28,29,30,31], \n",
    "xticklabels = ['1','2','3','4','5','6','7','8','9','10','11','12','13','14','15','16','17','18','19','20','21','22','23','24','25','26','27','28','29','30','31']);"
   ]
  },
  {
   "cell_type": "code",
   "execution_count": 20,
   "metadata": {},
   "outputs": [
    {
     "data": {
      "image/png": "[encoded data removed]",
      "text/plain": [
       "<Figure size 972x648 with 9 Axes>"
      ]
     },
     "metadata": {
      "needs_background": "light"
     },
     "output_type": "display_data"
    }
   ],
   "source": [
    "g = sns.FacetGrid(data = bitcoin, col = 'Year', col_wrap=3, aspect = 3/2)\n",
    "g.map(plt.scatter, 'Marketcap', 'Volume');"
   ]
  },
  {
   "cell_type": "code",
   "execution_count": 21,
   "metadata": {},
   "outputs": [
    {
     "data": {
      "text/plain": [
       "<matplotlib.axes._subplots.AxesSubplot at 0x1565115c358>"
      ]
     },
     "execution_count": 21,
     "metadata": {},
     "output_type": "execute_result"
    },
    {
     "data": {
      "image/png": "[encoded data removed]",
      "text/plain": [
       "<Figure size 864x360 with 2 Axes>"
      ]
     },
     "metadata": {
      "needs_background": "light"
     },
     "output_type": "display_data"
    }
   ],
   "source": [
    "sns.heatmap(bitcoin.corr(), annot=True, cmap = 'viridis_r')"
   ]
  },
  {
   "cell_type": "code",
   "execution_count": 22,
   "metadata": {},
   "outputs": [],
   "source": [
    "X = bitcoin.drop('Marketcap', axis = 1)\n",
    "y = bitcoin['Marketcap']"
   ]
  },
  {
   "cell_type": "code",
   "execution_count": 46,
   "metadata": {},
   "outputs": [],
   "source": [
    "import sklearn\n",
    "from sklearn.model_selection import train_test_split, RandomizedSearchCV\n",
    "from sklearn.linear_model import LinearRegression\n",
    "from sklearn.ensemble import RandomForestRegressor\n",
    "from sklearn.metrics import mean_squared_error, r2_score"
   ]
  },
  {
   "cell_type": "code",
   "execution_count": 38,
   "metadata": {},
   "outputs": [],
   "source": [
    "X_train, X_test, y_train, y_test = train_test_split(X, y, test_size=0.25, random_state=42)"
   ]
  },
  {
   "cell_type": "code",
   "execution_count": 39,
   "metadata": {},
   "outputs": [],
   "source": [
    "linear = LinearRegression()\n",
    "linear.fit(X_train, y_train)\n",
    "linear_pred = linear.predict(X_test)"
   ]
  },
  {
   "cell_type": "code",
   "execution_count": 40,
   "metadata": {},
   "outputs": [
    {
     "name": "stdout",
     "output_type": "stream",
     "text": [
      "Linear Score: 0.9989874503010131\n",
      "Linear Error: 1.9837611504807182e+19\n"
     ]
    }
   ],
   "source": [
    "print('Linear Score:', r2_score(y_test, linear_pred))\n",
    "print('Linear Error:', mean_squared_error(y_test, linear_pred))"
   ]
  },
  {
   "cell_type": "code",
   "execution_count": 41,
   "metadata": {},
   "outputs": [
    {
     "name": "stderr",
     "output_type": "stream",
     "text": [
      "C:\\Users\\Martin Berberi\\AppData\\Local\\Continuum\\anaconda3\\Anaconda\\lib\\site-packages\\sklearn\\ensemble\\forest.py:245: FutureWarning: The default value of n_estimators will change from 10 in version 0.20 to 100 in 0.22.\n",
      "  \"10 in version 0.20 to 100 in 0.22.\", FutureWarning)\n"
     ]
    }
   ],
   "source": [
    "random = RandomForestRegressor()\n",
    "random.fit(X_train, y_train)\n",
    "random_pred = random.predict(X_test)"
   ]
  },
  {
   "cell_type": "code",
   "execution_count": 42,
   "metadata": {},
   "outputs": [
    {
     "name": "stdout",
     "output_type": "stream",
     "text": [
      "Linear Score: 0.9992740251536006\n",
      "Linear Error: 1.4223111200904024e+19\n"
     ]
    }
   ],
   "source": [
    "print('Linear Score:', r2_score(y_test, random_pred))\n",
    "print('Linear Error:', mean_squared_error(y_test, random_pred))"
   ]
  },
  {
   "cell_type": "code",
   "execution_count": null,
   "metadata": {},
   "outputs": [],
   "source": []
  },
  {
   "cell_type": "code",
   "execution_count": null,
   "metadata": {},
   "outputs": [],
   "source": []
  },
  {
   "cell_type": "code",
   "execution_count": null,
   "metadata": {},
   "outputs": [],
   "source": []
  },
  {
   "cell_type": "code",
   "execution_count": null,
   "metadata": {},
   "outputs": [],
   "source": []
  },
  {
   "cell_type": "code",
   "execution_count": 43,
   "metadata": {},
   "outputs": [],
   "source": [
    "import pickle"
   ]
  },
  {
   "cell_type": "code",
   "execution_count": 44,
   "metadata": {},
   "outputs": [],
   "source": [
    "file = open('model.pkl', 'wb')\n",
    "pickle.dump(random, file)"
   ]
  },
  {
   "cell_type": "code",
   "execution_count": 32,
   "metadata": {},
   "outputs": [
    {
     "data": {
      "text/html": [
       "<div>\n",
       "<style scoped>\n",
       "    .dataframe tbody tr th:only-of-type {\n",
       "        vertical-align: middle;\n",
       "    }\n",
       "\n",
       "    .dataframe tbody tr th {\n",
       "        vertical-align: top;\n",
       "    }\n",
       "\n",
       "    .dataframe thead th {\n",
       "        text-align: right;\n",
       "    }\n",
       "</style>\n",
       "<table border=\"1\" class=\"dataframe\">\n",
       "  <thead>\n",
       "    <tr style=\"text-align: right;\">\n",
       "      <th></th>\n",
       "      <th>High</th>\n",
       "      <th>Low</th>\n",
       "      <th>Open</th>\n",
       "      <th>Close</th>\n",
       "      <th>Volume</th>\n",
       "      <th>Year</th>\n",
       "      <th>Month</th>\n",
       "      <th>Day</th>\n",
       "    </tr>\n",
       "  </thead>\n",
       "  <tbody>\n",
       "    <tr>\n",
       "      <th>0</th>\n",
       "      <td>147.4880</td>\n",
       "      <td>134.0000</td>\n",
       "      <td>134.4440</td>\n",
       "      <td>144.5400</td>\n",
       "      <td>0.0000</td>\n",
       "      <td>2013</td>\n",
       "      <td>4</td>\n",
       "      <td>29</td>\n",
       "    </tr>\n",
       "    <tr>\n",
       "      <th>1</th>\n",
       "      <td>146.9300</td>\n",
       "      <td>134.0500</td>\n",
       "      <td>144.0000</td>\n",
       "      <td>139.0000</td>\n",
       "      <td>0.0000</td>\n",
       "      <td>2013</td>\n",
       "      <td>4</td>\n",
       "      <td>30</td>\n",
       "    </tr>\n",
       "    <tr>\n",
       "      <th>2</th>\n",
       "      <td>139.8900</td>\n",
       "      <td>107.7200</td>\n",
       "      <td>139.0000</td>\n",
       "      <td>116.9900</td>\n",
       "      <td>0.0000</td>\n",
       "      <td>2013</td>\n",
       "      <td>5</td>\n",
       "      <td>1</td>\n",
       "    </tr>\n",
       "    <tr>\n",
       "      <th>3</th>\n",
       "      <td>125.6000</td>\n",
       "      <td>92.2819</td>\n",
       "      <td>116.3800</td>\n",
       "      <td>105.2100</td>\n",
       "      <td>0.0000</td>\n",
       "      <td>2013</td>\n",
       "      <td>5</td>\n",
       "      <td>2</td>\n",
       "    </tr>\n",
       "    <tr>\n",
       "      <th>4</th>\n",
       "      <td>108.1280</td>\n",
       "      <td>79.1000</td>\n",
       "      <td>106.2500</td>\n",
       "      <td>97.7500</td>\n",
       "      <td>0.0000</td>\n",
       "      <td>2013</td>\n",
       "      <td>5</td>\n",
       "      <td>3</td>\n",
       "    </tr>\n",
       "  </tbody>\n",
       "</table>\n",
       "</div>"
      ],
      "text/plain": [
       "      High      Low     Open    Close  Volume  Year  Month  Day\n",
       "0 147.4880 134.0000 134.4440 144.5400  0.0000  2013      4   29\n",
       "1 146.9300 134.0500 144.0000 139.0000  0.0000  2013      4   30\n",
       "2 139.8900 107.7200 139.0000 116.9900  0.0000  2013      5    1\n",
       "3 125.6000  92.2819 116.3800 105.2100  0.0000  2013      5    2\n",
       "4 108.1280  79.1000 106.2500  97.7500  0.0000  2013      5    3"
      ]
     },
     "execution_count": 32,
     "metadata": {},
     "output_type": "execute_result"
    }
   ],
   "source": [
    "X.head()"
   ]
  },
  {
   "cell_type": "code",
   "execution_count": null,
   "metadata": {},
   "outputs": [],
   "source": []
  },
  {
   "cell_type": "code",
   "execution_count": null,
   "metadata": {},
   "outputs": [],
   "source": []
  }
 ],
 "metadata": {
  "kernelspec": {
   "display_name": "Python 3",
   "language": "python",
   "name": "python3"
  },
  "language_info": {
   "codemirror_mode": {
    "name": "ipython",
    "version": 3
   },
   "file_extension": ".py",
   "mimetype": "text/x-python",
   "name": "python",
   "nbconvert_exporter": "python",
   "pygments_lexer": "ipython3",
   "version": "3.7.3"
  }
 },
 "nbformat": 4,
 "nbformat_minor": 2
}
